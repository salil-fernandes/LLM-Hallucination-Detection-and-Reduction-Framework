{
 "cells": [
  {
   "cell_type": "code",
   "execution_count": 1,
   "id": "cde4c4bd",
   "metadata": {},
   "outputs": [
    {
     "name": "stdout",
     "output_type": "stream",
     "text": [
      "\u001b[33mWARNING: Ignoring invalid distribution ~ensorflow (/opt/anaconda3/envs/venv/lib/python3.12/site-packages)\u001b[0m\u001b[33m\n",
      "\u001b[0m\u001b[33mWARNING: Ignoring invalid distribution ~ensorflow (/opt/anaconda3/envs/venv/lib/python3.12/site-packages)\u001b[0m\u001b[33m\n",
      "\u001b[0mRequirement already satisfied: langchain-pinecone in /opt/anaconda3/envs/venv/lib/python3.12/site-packages (0.2.5)\n",
      "Requirement already satisfied: pinecone-client in /opt/anaconda3/envs/venv/lib/python3.12/site-packages (6.0.0)\n",
      "Requirement already satisfied: sentence-transformers in /opt/anaconda3/envs/venv/lib/python3.12/site-packages (3.4.1)\n",
      "Requirement already satisfied: tqdm in /opt/anaconda3/envs/venv/lib/python3.12/site-packages (4.66.5)\n",
      "Requirement already satisfied: matplotlib in /opt/anaconda3/envs/venv/lib/python3.12/site-packages (3.9.2)\n",
      "Requirement already satisfied: tenacity in /opt/anaconda3/envs/venv/lib/python3.12/site-packages (9.1.2)\n",
      "Requirement already satisfied: langchain-core<1.0.0,>=0.3.34 in /opt/anaconda3/envs/venv/lib/python3.12/site-packages (from langchain-pinecone) (0.3.51)\n",
      "Requirement already satisfied: pinecone<7.0.0,>=6.0.0 in /opt/anaconda3/envs/venv/lib/python3.12/site-packages (from pinecone[async]<7.0.0,>=6.0.0->langchain-pinecone) (6.0.2)\n",
      "Requirement already satisfied: aiohttp<3.11,>=3.10 in /opt/anaconda3/envs/venv/lib/python3.12/site-packages (from langchain-pinecone) (3.10.11)\n",
      "Requirement already satisfied: numpy>=1.26.4 in /opt/anaconda3/envs/venv/lib/python3.12/site-packages (from langchain-pinecone) (1.26.4)\n",
      "Requirement already satisfied: langchain-tests<1.0.0,>=0.3.7 in /opt/anaconda3/envs/venv/lib/python3.12/site-packages (from langchain-pinecone) (0.3.17)\n",
      "Requirement already satisfied: certifi>=2019.11.17 in /opt/anaconda3/envs/venv/lib/python3.12/site-packages (from pinecone-client) (2024.12.14)\n",
      "Requirement already satisfied: pinecone-plugin-interface<0.0.8,>=0.0.7 in /opt/anaconda3/envs/venv/lib/python3.12/site-packages (from pinecone-client) (0.0.7)\n",
      "Requirement already satisfied: python-dateutil>=2.5.3 in /opt/anaconda3/envs/venv/lib/python3.12/site-packages (from pinecone-client) (2.9.0.post0)\n",
      "Requirement already satisfied: typing-extensions>=3.7.4 in /opt/anaconda3/envs/venv/lib/python3.12/site-packages (from pinecone-client) (4.12.2)\n",
      "Requirement already satisfied: urllib3>=1.26.5 in /opt/anaconda3/envs/venv/lib/python3.12/site-packages (from pinecone-client) (2.2.2)\n",
      "Requirement already satisfied: transformers<5.0.0,>=4.41.0 in /opt/anaconda3/envs/venv/lib/python3.12/site-packages (from sentence-transformers) (4.49.0)\n",
      "Requirement already satisfied: torch>=1.11.0 in /opt/anaconda3/envs/venv/lib/python3.12/site-packages (from sentence-transformers) (2.6.0)\n",
      "Requirement already satisfied: scikit-learn in /opt/anaconda3/envs/venv/lib/python3.12/site-packages (from sentence-transformers) (1.5.1)\n",
      "Requirement already satisfied: scipy in /opt/anaconda3/envs/venv/lib/python3.12/site-packages (from sentence-transformers) (1.13.1)\n",
      "Requirement already satisfied: huggingface-hub>=0.20.0 in /opt/anaconda3/envs/venv/lib/python3.12/site-packages (from sentence-transformers) (0.29.1)\n",
      "Requirement already satisfied: Pillow in /opt/anaconda3/envs/venv/lib/python3.12/site-packages (from sentence-transformers) (11.1.0)\n",
      "Requirement already satisfied: contourpy>=1.0.1 in /opt/anaconda3/envs/venv/lib/python3.12/site-packages (from matplotlib) (1.2.0)\n",
      "Requirement already satisfied: cycler>=0.10 in /opt/anaconda3/envs/venv/lib/python3.12/site-packages (from matplotlib) (0.11.0)\n",
      "Requirement already satisfied: fonttools>=4.22.0 in /opt/anaconda3/envs/venv/lib/python3.12/site-packages (from matplotlib) (4.51.0)\n",
      "Requirement already satisfied: kiwisolver>=1.3.1 in /opt/anaconda3/envs/venv/lib/python3.12/site-packages (from matplotlib) (1.4.4)\n",
      "Requirement already satisfied: packaging>=20.0 in /opt/anaconda3/envs/venv/lib/python3.12/site-packages (from matplotlib) (24.1)\n",
      "Requirement already satisfied: pyparsing>=2.3.1 in /opt/anaconda3/envs/venv/lib/python3.12/site-packages (from matplotlib) (3.1.2)\n",
      "Requirement already satisfied: aiohappyeyeballs>=2.3.0 in /opt/anaconda3/envs/venv/lib/python3.12/site-packages (from aiohttp<3.11,>=3.10->langchain-pinecone) (2.6.1)\n",
      "Requirement already satisfied: aiosignal>=1.1.2 in /opt/anaconda3/envs/venv/lib/python3.12/site-packages (from aiohttp<3.11,>=3.10->langchain-pinecone) (1.3.2)\n",
      "Requirement already satisfied: attrs>=17.3.0 in /opt/anaconda3/envs/venv/lib/python3.12/site-packages (from aiohttp<3.11,>=3.10->langchain-pinecone) (23.1.0)\n",
      "Requirement already satisfied: frozenlist>=1.1.1 in /opt/anaconda3/envs/venv/lib/python3.12/site-packages (from aiohttp<3.11,>=3.10->langchain-pinecone) (1.5.0)\n",
      "Requirement already satisfied: multidict<7.0,>=4.5 in /opt/anaconda3/envs/venv/lib/python3.12/site-packages (from aiohttp<3.11,>=3.10->langchain-pinecone) (6.2.0)\n",
      "Requirement already satisfied: yarl<2.0,>=1.12.0 in /opt/anaconda3/envs/venv/lib/python3.12/site-packages (from aiohttp<3.11,>=3.10->langchain-pinecone) (1.18.3)\n",
      "Requirement already satisfied: filelock in /opt/anaconda3/envs/venv/lib/python3.12/site-packages (from huggingface-hub>=0.20.0->sentence-transformers) (3.17.0)\n",
      "Requirement already satisfied: fsspec>=2023.5.0 in /opt/anaconda3/envs/venv/lib/python3.12/site-packages (from huggingface-hub>=0.20.0->sentence-transformers) (2024.12.0)\n",
      "Requirement already satisfied: pyyaml>=5.1 in /opt/anaconda3/envs/venv/lib/python3.12/site-packages (from huggingface-hub>=0.20.0->sentence-transformers) (6.0.1)\n",
      "Requirement already satisfied: requests in /opt/anaconda3/envs/venv/lib/python3.12/site-packages (from huggingface-hub>=0.20.0->sentence-transformers) (2.32.3)\n",
      "Requirement already satisfied: langsmith<0.4,>=0.1.125 in /opt/anaconda3/envs/venv/lib/python3.12/site-packages (from langchain-core<1.0.0,>=0.3.34->langchain-pinecone) (0.3.30)\n",
      "Requirement already satisfied: jsonpatch<2.0,>=1.33 in /opt/anaconda3/envs/venv/lib/python3.12/site-packages (from langchain-core<1.0.0,>=0.3.34->langchain-pinecone) (1.33)\n",
      "Requirement already satisfied: pydantic<3.0.0,>=2.7.4 in /opt/anaconda3/envs/venv/lib/python3.12/site-packages (from langchain-core<1.0.0,>=0.3.34->langchain-pinecone) (2.10.6)\n",
      "Requirement already satisfied: pytest<9,>=7 in /opt/anaconda3/envs/venv/lib/python3.12/site-packages (from langchain-tests<1.0.0,>=0.3.7->langchain-pinecone) (8.3.5)\n",
      "Requirement already satisfied: pytest-asyncio<1,>=0.20 in /opt/anaconda3/envs/venv/lib/python3.12/site-packages (from langchain-tests<1.0.0,>=0.3.7->langchain-pinecone) (0.26.0)\n",
      "Requirement already satisfied: httpx<1,>=0.25.0 in /opt/anaconda3/envs/venv/lib/python3.12/site-packages (from langchain-tests<1.0.0,>=0.3.7->langchain-pinecone) (0.27.0)\n",
      "Requirement already satisfied: syrupy<5,>=4 in /opt/anaconda3/envs/venv/lib/python3.12/site-packages (from langchain-tests<1.0.0,>=0.3.7->langchain-pinecone) (4.9.1)\n",
      "Requirement already satisfied: pytest-socket<1,>=0.6.0 in /opt/anaconda3/envs/venv/lib/python3.12/site-packages (from langchain-tests<1.0.0,>=0.3.7->langchain-pinecone) (0.7.0)\n",
      "\u001b[33mWARNING: pinecone 6.0.2 does not provide the extra 'async'\u001b[0m\u001b[33m\n",
      "\u001b[0mRequirement already satisfied: six>=1.5 in /opt/anaconda3/envs/venv/lib/python3.12/site-packages (from python-dateutil>=2.5.3->pinecone-client) (1.16.0)\n",
      "Requirement already satisfied: networkx in /opt/anaconda3/envs/venv/lib/python3.12/site-packages (from torch>=1.11.0->sentence-transformers) (3.4.2)\n",
      "Requirement already satisfied: jinja2 in /opt/anaconda3/envs/venv/lib/python3.12/site-packages (from torch>=1.11.0->sentence-transformers) (3.1.4)\n",
      "Requirement already satisfied: setuptools in /opt/anaconda3/envs/venv/lib/python3.12/site-packages (from torch>=1.11.0->sentence-transformers) (72.1.0)\n",
      "Requirement already satisfied: sympy==1.13.1 in /opt/anaconda3/envs/venv/lib/python3.12/site-packages (from torch>=1.11.0->sentence-transformers) (1.13.1)\n",
      "Requirement already satisfied: mpmath<1.4,>=1.1.0 in /opt/anaconda3/envs/venv/lib/python3.12/site-packages (from sympy==1.13.1->torch>=1.11.0->sentence-transformers) (1.3.0)\n",
      "Requirement already satisfied: regex!=2019.12.17 in /opt/anaconda3/envs/venv/lib/python3.12/site-packages (from transformers<5.0.0,>=4.41.0->sentence-transformers) (2024.11.6)\n",
      "Requirement already satisfied: tokenizers<0.22,>=0.21 in /opt/anaconda3/envs/venv/lib/python3.12/site-packages (from transformers<5.0.0,>=4.41.0->sentence-transformers) (0.21.0)\n",
      "Requirement already satisfied: safetensors>=0.4.1 in /opt/anaconda3/envs/venv/lib/python3.12/site-packages (from transformers<5.0.0,>=4.41.0->sentence-transformers) (0.5.3)\n",
      "Requirement already satisfied: joblib>=1.2.0 in /opt/anaconda3/envs/venv/lib/python3.12/site-packages (from scikit-learn->sentence-transformers) (1.4.2)\n",
      "Requirement already satisfied: threadpoolctl>=3.1.0 in /opt/anaconda3/envs/venv/lib/python3.12/site-packages (from scikit-learn->sentence-transformers) (3.5.0)\n",
      "Requirement already satisfied: anyio in /opt/anaconda3/envs/venv/lib/python3.12/site-packages (from httpx<1,>=0.25.0->langchain-tests<1.0.0,>=0.3.7->langchain-pinecone) (4.2.0)\n",
      "Requirement already satisfied: httpcore==1.* in /opt/anaconda3/envs/venv/lib/python3.12/site-packages (from httpx<1,>=0.25.0->langchain-tests<1.0.0,>=0.3.7->langchain-pinecone) (1.0.2)\n",
      "Requirement already satisfied: idna in /opt/anaconda3/envs/venv/lib/python3.12/site-packages (from httpx<1,>=0.25.0->langchain-tests<1.0.0,>=0.3.7->langchain-pinecone) (3.7)\n",
      "Requirement already satisfied: sniffio in /opt/anaconda3/envs/venv/lib/python3.12/site-packages (from httpx<1,>=0.25.0->langchain-tests<1.0.0,>=0.3.7->langchain-pinecone) (1.3.0)\n",
      "Requirement already satisfied: h11<0.15,>=0.13 in /opt/anaconda3/envs/venv/lib/python3.12/site-packages (from httpcore==1.*->httpx<1,>=0.25.0->langchain-tests<1.0.0,>=0.3.7->langchain-pinecone) (0.14.0)\n",
      "Requirement already satisfied: jsonpointer>=1.9 in /opt/anaconda3/envs/venv/lib/python3.12/site-packages (from jsonpatch<2.0,>=1.33->langchain-core<1.0.0,>=0.3.34->langchain-pinecone) (3.0.0)\n",
      "Requirement already satisfied: orjson<4.0.0,>=3.9.14 in /opt/anaconda3/envs/venv/lib/python3.12/site-packages (from langsmith<0.4,>=0.1.125->langchain-core<1.0.0,>=0.3.34->langchain-pinecone) (3.10.16)\n",
      "Requirement already satisfied: requests-toolbelt<2.0.0,>=1.0.0 in /opt/anaconda3/envs/venv/lib/python3.12/site-packages (from langsmith<0.4,>=0.1.125->langchain-core<1.0.0,>=0.3.34->langchain-pinecone) (1.0.0)\n",
      "Requirement already satisfied: zstandard<0.24.0,>=0.23.0 in /opt/anaconda3/envs/venv/lib/python3.12/site-packages (from langsmith<0.4,>=0.1.125->langchain-core<1.0.0,>=0.3.34->langchain-pinecone) (0.23.0)\n",
      "Requirement already satisfied: annotated-types>=0.6.0 in /opt/anaconda3/envs/venv/lib/python3.12/site-packages (from pydantic<3.0.0,>=2.7.4->langchain-core<1.0.0,>=0.3.34->langchain-pinecone) (0.7.0)\n",
      "Requirement already satisfied: pydantic-core==2.27.2 in /opt/anaconda3/envs/venv/lib/python3.12/site-packages (from pydantic<3.0.0,>=2.7.4->langchain-core<1.0.0,>=0.3.34->langchain-pinecone) (2.27.2)\n",
      "Requirement already satisfied: iniconfig in /opt/anaconda3/envs/venv/lib/python3.12/site-packages (from pytest<9,>=7->langchain-tests<1.0.0,>=0.3.7->langchain-pinecone) (2.1.0)\n",
      "Requirement already satisfied: pluggy<2,>=1.5 in /opt/anaconda3/envs/venv/lib/python3.12/site-packages (from pytest<9,>=7->langchain-tests<1.0.0,>=0.3.7->langchain-pinecone) (1.5.0)\n",
      "Requirement already satisfied: charset-normalizer<4,>=2 in /opt/anaconda3/envs/venv/lib/python3.12/site-packages (from requests->huggingface-hub>=0.20.0->sentence-transformers) (3.3.2)\n",
      "Requirement already satisfied: propcache>=0.2.0 in /opt/anaconda3/envs/venv/lib/python3.12/site-packages (from yarl<2.0,>=1.12.0->aiohttp<3.11,>=3.10->langchain-pinecone) (0.3.1)\n",
      "Requirement already satisfied: MarkupSafe>=2.0 in /opt/anaconda3/envs/venv/lib/python3.12/site-packages (from jinja2->torch>=1.11.0->sentence-transformers) (2.1.3)\n",
      "\u001b[33mWARNING: Ignoring invalid distribution ~ensorflow (/opt/anaconda3/envs/venv/lib/python3.12/site-packages)\u001b[0m\u001b[33m\n",
      "\u001b[0m\u001b[33mWARNING: Ignoring invalid distribution ~ensorflow (/opt/anaconda3/envs/venv/lib/python3.12/site-packages)\u001b[0m\u001b[33m\n",
      "\u001b[0m\n",
      "\u001b[1m[\u001b[0m\u001b[34;49mnotice\u001b[0m\u001b[1;39;49m]\u001b[0m\u001b[39;49m A new release of pip is available: \u001b[0m\u001b[31;49m24.3.1\u001b[0m\u001b[39;49m -> \u001b[0m\u001b[32;49m25.0.1\u001b[0m\n",
      "\u001b[1m[\u001b[0m\u001b[34;49mnotice\u001b[0m\u001b[1;39;49m]\u001b[0m\u001b[39;49m To update, run: \u001b[0m\u001b[32;49mpip install --upgrade pip\u001b[0m\n"
     ]
    }
   ],
   "source": [
    "# Install required packages\n",
    "! pip install langchain-pinecone pinecone-client sentence-transformers tqdm matplotlib tenacity"
   ]
  },
  {
   "cell_type": "code",
   "execution_count": null,
   "id": "3d315bd9",
   "metadata": {},
   "outputs": [],
   "source": [
    "import pandas as pd\n",
    "import re\n",
    "import os\n",
    "import time\n",
    "from tqdm import tqdm\n",
    "import matplotlib.pyplot as plt\n",
    "from sentence_transformers import SentenceTransformer, util\n",
    "from tenacity import retry, stop_after_attempt, wait_exponential, retry_if_exception_type\n",
    "\n",
    "from langchain.embeddings import HuggingFaceEmbeddings\n",
    "from langchain.document_loaders import TextLoader\n",
    "from langchain.text_splitter import RecursiveCharacterTextSplitter\n",
    "from langchain.chains import RetrievalQA\n",
    "from langchain.llms import Together\n",
    "from pinecone import Pinecone, ServerlessSpec\n",
    "from langchain_pinecone import PineconeVectorStore\n",
    "\n",
    "# Constants and API keys\n",
    "PINECONE_API_KEY = \"\"\n",
    "PINECONE_INDEX_NAME = \"hallucination-reduction-index\"\n",
    "\n",
    "TOGETHER_API_KEY = \"\"\n",
    "MISTRAL_MODEL_ID = \"mistralai/Mistral-7B-Instruct-v0.2\"\n",
    "\n",
    "# Set API keys as environment variables\n",
    "os.environ[\"PINECONE_API_KEY\"] = PINECONE_API_KEY\n",
    "os.environ[\"TOGETHER_API_KEY\"] = TOGETHER_API_KEY"
   ]
  },
  {
   "cell_type": "code",
   "execution_count": 3,
   "id": "d73ed0fd",
   "metadata": {},
   "outputs": [],
   "source": [
    "# Load CSV\n",
    "file_path = \"mistral_hallucination_check.csv\"\n",
    "df = pd.read_csv(file_path, nrows=7000)"
   ]
  },
  {
   "cell_type": "code",
   "execution_count": 4,
   "id": "6172b6dc",
   "metadata": {},
   "outputs": [],
   "source": [
    "# Generate KB text file for context\n",
    "with open(\"knowledge_base.txt\", \"w\") as f:\n",
    "    for _, row in df.iterrows():\n",
    "        if pd.notnull(row[\"right_answer\"]):\n",
    "            f.write(f\"Q: {row['question']}\\nA: {row['right_answer']}\\n\\n\")"
   ]
  },
  {
   "cell_type": "code",
   "execution_count": 5,
   "id": "0166896b",
   "metadata": {},
   "outputs": [],
   "source": [
    "# Load and split text\n",
    "loader = TextLoader(\"knowledge_base.txt\")\n",
    "docs = loader.load()\n",
    "splitter = RecursiveCharacterTextSplitter(chunk_size=500, chunk_overlap=50)\n",
    "chunks = splitter.split_documents(docs)"
   ]
  },
  {
   "cell_type": "code",
   "execution_count": 6,
   "id": "ae4e70ed",
   "metadata": {},
   "outputs": [
    {
     "name": "stderr",
     "output_type": "stream",
     "text": [
      "/var/folders/_2/n6yzr0md2fn8r03l4642zczr0000gn/T/ipykernel_14776/1692382893.py:9: LangChainDeprecationWarning: The class `HuggingFaceEmbeddings` was deprecated in LangChain 0.2.2 and will be removed in 1.0. An updated version of the class exists in the :class:`~langchain-huggingface package and should be used instead. To use it run `pip install -U :class:`~langchain-huggingface` and import as `from :class:`~langchain_huggingface import HuggingFaceEmbeddings``.\n",
      "  embedding_model = HuggingFaceEmbeddings(model_name=\"all-MiniLM-L6-v2\")\n"
     ]
    }
   ],
   "source": [
    "# Initialize Pinecone client\n",
    "pc = Pinecone(api_key=PINECONE_API_KEY)\n",
    "\n",
    "# Check if index exists, if not create it\n",
    "index_name = PINECONE_INDEX_NAME\n",
    "existing_indexes = [index_info[\"name\"] for index_info in pc.list_indexes()]\n",
    "\n",
    "# Initialize embedding model\n",
    "embedding_model = HuggingFaceEmbeddings(model_name=\"all-MiniLM-L6-v2\")"
   ]
  },
  {
   "cell_type": "code",
   "execution_count": 7,
   "id": "b3e71a54",
   "metadata": {},
   "outputs": [],
   "source": [
    "if index_name not in existing_indexes:\n",
    "    # Create a new index\n",
    "    pc.create_index(\n",
    "        name=index_name,\n",
    "        dimension=384,  # The dimension for all-MiniLM-L6-v2 is 384\n",
    "        metric=\"cosine\",\n",
    "        spec=ServerlessSpec(cloud=\"aws\", region=\"us-east-1\")\n",
    "    )\n",
    "\n",
    "# Get the index\n",
    "index = pc.Index(index_name)"
   ]
  },
  {
   "cell_type": "code",
   "execution_count": 8,
   "id": "fa9ccbef",
   "metadata": {},
   "outputs": [],
   "source": [
    "# Create vector store and add documents - use environment variables instead\n",
    "vectorstore = PineconeVectorStore.from_documents(\n",
    "    documents=chunks,\n",
    "    embedding=embedding_model,\n",
    "    index_name=index_name\n",
    ")"
   ]
  },
  {
   "cell_type": "code",
   "execution_count": 9,
   "id": "ffc9b18e",
   "metadata": {},
   "outputs": [
    {
     "name": "stderr",
     "output_type": "stream",
     "text": [
      "/var/folders/_2/n6yzr0md2fn8r03l4642zczr0000gn/T/ipykernel_14776/3609319017.py:5: LangChainDeprecationWarning: The class `Together` was deprecated in LangChain 0.0.12 and will be removed in 1.0. An updated version of the class exists in the :class:`~langchain-together package and should be used instead. To use it run `pip install -U :class:`~langchain-together` and import as `from :class:`~langchain_together import Together``.\n",
      "  llm = Together(\n"
     ]
    }
   ],
   "source": [
    "# Create retriever\n",
    "retriever = vectorstore.as_retriever(search_kwargs={\"k\": 3})\n",
    "\n",
    "# Setup Together API - using the correct parameter name 'together_api_key'\n",
    "llm = Together(\n",
    "    model=MISTRAL_MODEL_ID,\n",
    "    temperature=0.7,\n",
    "    max_tokens=512\n",
    ")\n",
    "\n",
    "# Setup RAG Chain\n",
    "rag_chain = RetrievalQA.from_chain_type(\n",
    "    llm=llm,\n",
    "    retriever=retriever,\n",
    "    return_source_documents=False\n",
    ")\n",
    "\n",
    "# Semantic similarity model\n",
    "similarity_model = SentenceTransformer('all-MiniLM-L6-v2')"
   ]
  },
  {
   "cell_type": "code",
   "execution_count": 10,
   "id": "a4ecc3c6",
   "metadata": {},
   "outputs": [],
   "source": [
    "# Rate limit handling for Together API\n",
    "class RateLimitError(Exception):\n",
    "    \"\"\"Exception raised for Together API rate limit errors.\"\"\"\n",
    "    pass\n",
    "\n",
    "@retry(\n",
    "    retry=retry_if_exception_type(RateLimitError),\n",
    "    wait=wait_exponential(multiplier=1, min=4, max=10),\n",
    "    stop=stop_after_attempt(5)\n",
    ")\n",
    "def run_with_retry(query):\n",
    "    \"\"\"Run query with retry logic for rate limits\"\"\"\n",
    "    try:\n",
    "        return rag_chain.run(query)\n",
    "    except ValueError as e:\n",
    "        if \"rate_limit\" in str(e):\n",
    "            print(f\"Rate limit hit, retrying after backoff: {str(e)}\")\n",
    "            # Add jitter to avoid synchronized retries\n",
    "            time.sleep(random.uniform(1, 3))\n",
    "            raise RateLimitError(str(e))\n",
    "        raise"
   ]
  },
  {
   "cell_type": "code",
   "execution_count": 11,
   "id": "f0297d02",
   "metadata": {},
   "outputs": [],
   "source": [
    "def is_hallucinated(model_answer: str, right_answer: str, threshold: float = 0.5) -> bool:\n",
    "    right_embedding = similarity_model.encode(right_answer, convert_to_tensor=True)\n",
    "    full_similarity = util.cos_sim(similarity_model.encode(model_answer, convert_to_tensor=True), right_embedding).item()\n",
    "    max_similarity = full_similarity\n",
    "\n",
    "    sentences = re.split(r'(?<=[.!?])\\s+', model_answer)\n",
    "    for sentence in sentences:\n",
    "        sentence = sentence.strip()\n",
    "        if not sentence:\n",
    "            continue\n",
    "        sentence_embedding = similarity_model.encode(sentence, convert_to_tensor=True)\n",
    "        similarity = util.cos_sim(sentence_embedding, right_embedding).item()\n",
    "        max_similarity = max(max_similarity, similarity)\n",
    "\n",
    "        words = sentence.split()\n",
    "        n = len(right_answer.split())\n",
    "        for window_size in range(n, min(n + 3, len(words) + 1)):\n",
    "            for i in range(len(words) - window_size + 1):\n",
    "                chunk = \" \".join(words[i:i + window_size])\n",
    "                chunk_embedding = similarity_model.encode(chunk, convert_to_tensor=True)\n",
    "                chunk_similarity = util.cos_sim(chunk_embedding, right_embedding).item()\n",
    "                max_similarity = max(max_similarity, chunk_similarity)\n",
    "                if max_similarity >= threshold:\n",
    "                    break\n",
    "            if max_similarity >= threshold:\n",
    "                break\n",
    "        if max_similarity >= threshold:\n",
    "            break\n",
    "\n",
    "    return max_similarity < threshold"
   ]
  },
  {
   "cell_type": "code",
   "execution_count": 12,
   "id": "b67c0ed0",
   "metadata": {},
   "outputs": [
    {
     "name": "stdout",
     "output_type": "stream",
     "text": [
      "Processing batch 1/7\n"
     ]
    },
    {
     "name": "stderr",
     "output_type": "stream",
     "text": [
      "  0%|          | 0/1000 [00:00<?, ?it/s]/var/folders/_2/n6yzr0md2fn8r03l4642zczr0000gn/T/ipykernel_14776/2969730513.py:14: LangChainDeprecationWarning: The method `Chain.run` was deprecated in langchain 0.1.0 and will be removed in 1.0. Use :meth:`~invoke` instead.\n",
      "  return rag_chain.run(query)\n",
      " 96%|█████████▌| 962/1000 [49:11<14:17, 22.58s/it]  "
     ]
    },
    {
     "name": "stdout",
     "output_type": "stream",
     "text": [
      "Error processing question: What is the nickname of the host for which \"Winner Take All\" is best known?\n",
      "Error details: Failed to connect; did you specify the correct index name?\n"
     ]
    },
    {
     "name": "stderr",
     "output_type": "stream",
     "text": [
      "100%|██████████| 1000/1000 [51:07<00:00,  3.07s/it]\n"
     ]
    },
    {
     "name": "stdout",
     "output_type": "stream",
     "text": [
      "Waiting between batches to respect rate limits...\n",
      "Processing batch 2/7\n"
     ]
    },
    {
     "name": "stderr",
     "output_type": "stream",
     "text": [
      "100%|██████████| 1000/1000 [55:21<00:00,  3.32s/it] \n"
     ]
    },
    {
     "name": "stdout",
     "output_type": "stream",
     "text": [
      "Waiting between batches to respect rate limits...\n",
      "Processing batch 3/7\n"
     ]
    },
    {
     "name": "stderr",
     "output_type": "stream",
     "text": [
      "100%|██████████| 1000/1000 [52:43<00:00,  3.16s/it] \n"
     ]
    },
    {
     "name": "stdout",
     "output_type": "stream",
     "text": [
      "Waiting between batches to respect rate limits...\n",
      "Processing batch 4/7\n"
     ]
    },
    {
     "name": "stderr",
     "output_type": "stream",
     "text": [
      "100%|██████████| 1000/1000 [50:59<00:00,  3.06s/it] \n"
     ]
    },
    {
     "name": "stdout",
     "output_type": "stream",
     "text": [
      "Waiting between batches to respect rate limits...\n",
      "Processing batch 5/7\n"
     ]
    },
    {
     "name": "stderr",
     "output_type": "stream",
     "text": [
      " 76%|███████▌  | 756/1000 [37:19<38:31,  9.47s/it]  "
     ]
    },
    {
     "name": "stdout",
     "output_type": "stream",
     "text": [
      "Error processing question: What castle owned by Sir Ernest Wills has been a base for Menzies Clan Chief David Steuart Menzies?\n",
      "Error details: Failed to connect; did you specify the correct index name?\n"
     ]
    },
    {
     "name": "stderr",
     "output_type": "stream",
     "text": [
      "100%|██████████| 1000/1000 [50:42<00:00,  3.04s/it]\n"
     ]
    },
    {
     "name": "stdout",
     "output_type": "stream",
     "text": [
      "Waiting between batches to respect rate limits...\n",
      "Processing batch 6/7\n"
     ]
    },
    {
     "name": "stderr",
     "output_type": "stream",
     "text": [
      "  2%|▏         | 15/1000 [00:39<31:36,  1.93s/it] "
     ]
    },
    {
     "name": "stdout",
     "output_type": "stream",
     "text": [
      "Error processing question: Nita Kumar completed her Ph.D. from the University of Chicago in History and has taught at the University of Chicago, Brown University, and the University of Michigan among other places, she presently holds the Brown Family Chair of South Asian History at which independent, coeducational and private liberal arts college with a curricular emphasis on economics, finance, international relations, government and public affairs, located in Claremont, California, United States?\n",
      "Error details: ('Connection aborted.', ConnectionResetError(54, 'Connection reset by peer'))\n"
     ]
    },
    {
     "name": "stderr",
     "output_type": "stream",
     "text": [
      " 95%|█████████▍| 946/1000 [1:03:23<2:45:03, 183.39s/it]"
     ]
    },
    {
     "name": "stdout",
     "output_type": "stream",
     "text": [
      "Error processing question: English National Opera commissions and premieres and The London Coliseum are both of which origin?\n",
      "Error details: ('Connection aborted.', RemoteDisconnected('Remote end closed connection without response'))\n"
     ]
    },
    {
     "name": "stderr",
     "output_type": "stream",
     "text": [
      " 95%|█████████▍| 947/1000 [1:04:23<2:09:09, 146.22s/it]"
     ]
    },
    {
     "name": "stdout",
     "output_type": "stream",
     "text": [
      "Error processing question: This Indian music composer presented a 2017 Marathi film which marked the debut of which two actors?\n",
      "Error details: Failed to connect; did you specify the correct index name?\n"
     ]
    },
    {
     "name": "stderr",
     "output_type": "stream",
     "text": [
      "100%|██████████| 1000/1000 [1:07:19<00:00,  4.04s/it]  \n"
     ]
    },
    {
     "name": "stdout",
     "output_type": "stream",
     "text": [
      "Waiting between batches to respect rate limits...\n",
      "Processing batch 7/7\n"
     ]
    },
    {
     "name": "stderr",
     "output_type": "stream",
     "text": [
      "100%|██████████| 1000/1000 [48:28<00:00,  2.91s/it] \n"
     ]
    }
   ],
   "source": [
    "# Apply RAG + hallucination check with batching and rate limit handling\n",
    "tqdm.pandas()\n",
    "\n",
    "# Process in smaller batches to manage rate limits\n",
    "batch_size = 1000  # Adjust based on Together API limits\n",
    "results = []\n",
    "\n",
    "for i in range(0, len(df), batch_size):\n",
    "    batch = df.iloc[i:i+batch_size]\n",
    "    print(f\"Processing batch {i//batch_size + 1}/{(len(df) + batch_size - 1)//batch_size}\")\n",
    "    \n",
    "    for _, row in tqdm(batch.iterrows(), total=len(batch)):\n",
    "        try:\n",
    "            rag_answer = run_with_retry(row[\"question\"])\n",
    "            is_hallucinated_rag = is_hallucinated(rag_answer, row[\"right_answer\"])\n",
    "            results.append({\n",
    "                \"question\": row[\"question\"],\n",
    "                \"right_answer\": row[\"right_answer\"],\n",
    "                \"rag_answer\": rag_answer,\n",
    "                \"is_hallucinated_rag\": is_hallucinated_rag,\n",
    "                \"is_hallucinated_recomputed\": row[\"is_hallucinated_recomputed\"]\n",
    "            })\n",
    "            # Add delay between requests to respect rate limits\n",
    "            time.sleep(1)  # 1 request per second (QPS) as per error message\n",
    "        except Exception as e:\n",
    "            print(f\"Error processing question: {row['question']}\")\n",
    "            print(f\"Error details: {str(e)}\")\n",
    "            # Add the row with error information\n",
    "            results.append({\n",
    "                \"question\": row[\"question\"],\n",
    "                \"right_answer\": row[\"right_answer\"],\n",
    "                \"rag_answer\": f\"ERROR: {str(e)}\",\n",
    "                \"is_hallucinated_rag\": None,\n",
    "                \"is_hallucinated_recomputed\": row[\"is_hallucinated_recomputed\"]\n",
    "            })\n",
    "    \n",
    "    # Save intermediate results after each batch\n",
    "    results_df = pd.DataFrame(results)\n",
    "    results_df.to_csv(f\"rag_results_batch_{i//batch_size + 1}.csv\", index=False)\n",
    "    \n",
    "    # Add delay between batches\n",
    "    if i + batch_size < len(df):\n",
    "        print(f\"Waiting between batches to respect rate limits...\")\n",
    "        time.sleep(5)  # 5 seconds between batches"
   ]
  },
  {
   "cell_type": "code",
   "execution_count": 13,
   "id": "7abbad6d",
   "metadata": {},
   "outputs": [
    {
     "name": "stdout",
     "output_type": "stream",
     "text": [
      "Successful completions: 6995/7000 (99.93%)\n",
      "Original hallucination rate: 28.15%\n",
      "RAG hallucination rate: 11.69%\n"
     ]
    },
    {
     "data": {
      "image/png": "[encoded data removed]",
      "text/plain": [
       "<Figure size 1000x600 with 1 Axes>"
      ]
     },
     "metadata": {},
     "output_type": "display_data"
    }
   ],
   "source": [
    "# Combine all results\n",
    "final_df = pd.DataFrame(results)\n",
    "final_df.to_csv(\"rag_results_complete.csv\", index=False)\n",
    "\n",
    "# Calculate hallucination rates only on successful generations\n",
    "success_df = final_df[~final_df[\"is_hallucinated_rag\"].isna()]\n",
    "if len(success_df) > 0:\n",
    "    original_rate = success_df[\"is_hallucinated_recomputed\"].mean()\n",
    "    rag_rate = success_df[\"is_hallucinated_rag\"].mean()\n",
    "\n",
    "    print(f\"Successful completions: {len(success_df)}/{len(final_df)} ({len(success_df)/len(final_df):.2%})\")\n",
    "    print(f\"Original hallucination rate: {original_rate:.2%}\")\n",
    "    print(f\"RAG hallucination rate: {rag_rate:.2%}\")\n",
    "\n",
    "    # Plot results\n",
    "    plt.figure(figsize=(10, 6))\n",
    "    plt.bar(['Original', 'RAG'], [original_rate, rag_rate], color=['#ff9999', '#66b3ff'])\n",
    "    plt.ylabel('Hallucination Rate')\n",
    "    plt.title('Hallucination Reduction with RAG')\n",
    "    plt.grid(axis='y', linestyle='--', alpha=0.7)\n",
    "    plt.savefig('hallucination_comparison.png')\n",
    "    plt.show()\n",
    "else:\n",
    "    print(\"No successful completions to analyze.\")"
   ]
  }
 ],
 "metadata": {
  "kernelspec": {
   "display_name": "venv",
   "language": "python",
   "name": "python3"
  },
  "language_info": {
   "codemirror_mode": {
    "name": "ipython",
    "version": 3
   },
   "file_extension": ".py",
   "mimetype": "text/x-python",
   "name": "python",
   "nbconvert_exporter": "python",
   "pygments_lexer": "ipython3",
   "version": "3.12.5"
  }
 },
 "nbformat": 4,
 "nbformat_minor": 5
}
